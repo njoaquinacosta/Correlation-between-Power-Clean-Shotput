{
 "cells": [
  {
   "cell_type": "code",
   "execution_count": 2,
   "metadata": {},
   "outputs": [],
   "source": [
    "import numpy as np\n",
    "import pandas as pd\n",
    "import plotly.plotly as py\n",
    "import plotly.graph_objs as go\n",
    "import matplotlib.pyplot as plt\n",
    "\n",
    "plt.rcParams['figure.figsize'] = (14,6)"
   ]
  },
  {
   "cell_type": "code",
   "execution_count": 3,
   "metadata": {},
   "outputs": [
    {
     "data": {
      "image/png": "[encoded data removed]",
      "text/plain": [
       "<matplotlib.figure.Figure at 0x1f5488f90b8>"
      ]
     },
     "metadata": {},
     "output_type": "display_data"
    }
   ],
   "source": [
    "\"\"\"\n",
    "############################################################################################\n",
    "PROBLEM STATEMENT: \n",
    "\n",
    "Does better performance (ability to lift heavier weights) in the power clean lead \n",
    "to better performance (greater distance) in the shot put for female collegiate athletes?\n",
    "\n",
    "############################################################################################\n",
    "\n",
    "DATA SET INFORMATION:\n",
    "\n",
    "The data associated with this analysis contains the following features over 28 observations:\n",
    "    \n",
    "    1. Best pre-season 1 rep power clean lift in kg   (power.clean)\n",
    "    2. Personal best shot put in meters (shot.putt)\n",
    "############################################################################################\n",
    "\"\"\"\n",
    "\n",
    "\n",
    "x = [6.4, 10.2, 12.4, 13, 13.2, 13, 12.7, 13.9, \n",
    "     15.5, 15.8, 15.8, 16.8, 17.1, 17.8, 14.8, \n",
    "     15.5, 16.1, 16.2, 17.9, 15.9, 15.8, 16.7, \n",
    "     17.6, 16.8, 17, 18.2, 19.2, 18.6]\n",
    "\n",
    "y = [37.5, 51.5, 61.3, 61.3, 63.6, 66.1, 70, \n",
    "     92.7, 90.5, 90.5, 94.8, 97, 97, 97, 102, \n",
    "     102, 103.6, 100.4, 108.4, 114, 115.3, 114.9, \n",
    "     114.7, 123.6, 125.8, 119.1, 118.9, 141.1]\n",
    "\n",
    "plt.scatter(x,y, label='skitscat', color='dodgerblue', s=25, marker='o')\n",
    "\n",
    "plt.xlabel('Personal Best Shotput (meters)')\n",
    "plt.ylabel('Pre-season 1-rep max Power Clean (kg)')\n",
    "plt.title('Correlation between Strength & Performance Among Shot Putters')\n",
    "plt.legend()\n",
    "plt.show()"
   ]
  },
  {
   "cell_type": "code",
   "execution_count": 4,
   "metadata": {},
   "outputs": [
    {
     "name": "stdout",
     "output_type": "stream",
     "text": [
      "          x         y\n",
      "x  1.000000  0.650538\n",
      "y  0.650538  1.000000\n"
     ]
    }
   ],
   "source": [
    "\"\"\"\n",
    "##########################################################################################\n",
    "FINDINGS:\n",
    "\n",
    "    1. There is a clear correlation between performance in the power clean and performance \n",
    "       in the shotput.\n",
    "    2. The value is close to 1, indicating a strong agreement between performance strength \n",
    "       in the power clean and performance in the shot put; greater strength in the power \n",
    "       clean results in increased distance in the shotput.\n",
    "\n",
    "##########################################################################################\n",
    "\n",
    "For verification purposes, apply Kendall's τ Coefficient to measure the correspondence \n",
    "between strength in the power clean and performance (distance) in the shot put.\n",
    "\"\"\"\n",
    "\n",
    "k = pd.DataFrame()\n",
    "k['x'] = [6.4, 10.2, 12.4, 13, 13.2, 13, 12.7, 13.9, \n",
    "         15.5, 15.8, 15.8, 16.8, 17.1, 17.8, 14.8, \n",
    "         15.5, 16.1, 16.2, 17.9, 15.9, 15.8, 16.7, \n",
    "         17.6, 16.8, 17, 18.2, 19.2, 18.6]\n",
    "\n",
    "k['y'] = [37.5, 51.5, 61.3, 61.3, 63.6, 66.1, 70, \n",
    "         92.7, 90.5, 90.5, 94.8, 97, 97, 97, 102, \n",
    "         102, 103.6, 100.4, 108.4, 114, 115.3, 114.9, \n",
    "         114.7, 123.6, 125.8, 119.1, 118.9, 141.1]\n",
    "print(k.corr(method='kendall'))"
   ]
  },
  {
   "cell_type": "code",
   "execution_count": null,
   "metadata": {
    "collapsed": true
   },
   "outputs": [],
   "source": [
    "\"\"\"\n",
    "FINDINGS:\n",
    "\n",
    "    1. The value is very close to 1, indicating a strong agreement between \n",
    "       performance strength in the power clean and performance in the shot put;\n",
    "       greater strength in the power clean results in increased distance in the shotput.\n",
    "       \n",
    "CONCLUSIONS:\n",
    "\n",
    "Increased performance in the power clean may very well lead to a demonstrated performance \n",
    "improvement in performance of the shoput.\n",
    "\"\"\""
   ]
  }
 ],
 "metadata": {
  "kernelspec": {
   "display_name": "Python 3",
   "language": "python",
   "name": "python3"
  }
 },
 "nbformat": 4,
 "nbformat_minor": 2
}
